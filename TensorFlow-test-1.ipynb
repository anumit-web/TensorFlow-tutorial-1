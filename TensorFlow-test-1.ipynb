{
  "nbformat": 4,
  "nbformat_minor": 0,
  "metadata": {
    "colab": {
      "provenance": [],
      "include_colab_link": true
    },
    "kernelspec": {
      "name": "python3",
      "display_name": "Python 3"
    },
    "language_info": {
      "name": "python"
    }
  },
  "cells": [
    {
      "cell_type": "markdown",
      "metadata": {
        "id": "view-in-github",
        "colab_type": "text"
      },
      "source": [
        "<a href=\"https://colab.research.google.com/github/anumit-web/TensorFlow-tutorial-1/blob/main/TensorFlow-test-1.ipynb\" target=\"_parent\"><img src=\"https://colab.research.google.com/assets/colab-badge.svg\" alt=\"Open In Colab\"/></a>"
      ]
    },
    {
      "cell_type": "code",
      "execution_count": 9,
      "metadata": {
        "colab": {
          "base_uri": "https://localhost:8080/"
        },
        "id": "Goo0G_L6DzCV",
        "outputId": "c9933422-73a1-45e4-db09-09ed2f7defba"
      },
      "outputs": [
        {
          "output_type": "stream",
          "name": "stdout",
          "text": [
            "Hello World\n"
          ]
        }
      ],
      "source": [
        "print('Hello World')"
      ]
    },
    {
      "cell_type": "markdown",
      "source": [
        "## TensorFlow"
      ],
      "metadata": {
        "id": "86dvRnjXGNcR"
      }
    },
    {
      "cell_type": "code",
      "source": [
        "import tensorflow as tf\n",
        "print('TensorFlow version - ',tf.__version__)\n",
        "# Check if GPU is available\n",
        "gpu_available = tf.config.list_physical_devices('GPU')\n",
        "\n",
        "if gpu_available:\n",
        "    print(\"TensorFlow is installed as GPU version.\")\n",
        "else:\n",
        "    print(\"TensorFlow is installed as CPU version.\")\n"
      ],
      "metadata": {
        "id": "mBb8EGCKgfPD",
        "outputId": "c80fde7f-3f70-4bb6-9947-fab4d5309ac3",
        "colab": {
          "base_uri": "https://localhost:8080/"
        }
      },
      "execution_count": 10,
      "outputs": [
        {
          "output_type": "stream",
          "name": "stdout",
          "text": [
            "TensorFlow version -  2.15.0\n",
            "TensorFlow is installed as CPU version.\n"
          ]
        }
      ]
    }
  ]
}